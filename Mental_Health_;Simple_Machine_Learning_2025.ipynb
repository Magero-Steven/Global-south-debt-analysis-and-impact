{
  "cells": [
    {
      "cell_type": "markdown",
      "metadata": {
        "id": "view-in-github",
        "colab_type": "text"
      },
      "source": [
        "<a href=\"https://colab.research.google.com/github/Magero-Steven/Global-south-debt-analysis-and-impact/blob/main/Mental_Health_%3BSimple_Machine_Learning_2025.ipynb\" target=\"_parent\"><img src=\"https://colab.research.google.com/assets/colab-badge.svg\" alt=\"Open In Colab\"/></a>"
      ]
    },
    {
      "cell_type": "code",
      "execution_count": null,
      "id": "af1cdca9",
      "metadata": {
        "id": "af1cdca9"
      },
      "outputs": [],
      "source": [
        "import pandas as pd\n",
        "import numpy as np\n",
        "from sklearn import linear_model\n",
        "from sklearn.model_selection import train_test_split\n"
      ]
    },
    {
      "cell_type": "code",
      "source": [],
      "metadata": {
        "id": "6q8-ELf-xvq8"
      },
      "id": "6q8-ELf-xvq8",
      "execution_count": null,
      "outputs": []
    },
    {
      "cell_type": "code",
      "execution_count": null,
      "id": "9f676661",
      "metadata": {
        "id": "9f676661",
        "outputId": "3306b1c7-6b16-4fc0-f2fc-b78bb9d7af88"
      },
      "outputs": [
        {
          "name": "stdout",
          "output_type": "stream",
          "text": [
            "Name                            0\n",
            "Age                             0\n",
            "Marital Status                  0\n",
            "Education Level                 0\n",
            "Number of Children              0\n",
            "Smoking Status                  0\n",
            "Physical Activity Level         0\n",
            "Employment Status               0\n",
            "Income                          0\n",
            "Alcohol Consumption             0\n",
            "Dietary Habits                  0\n",
            "Sleep Patterns                  0\n",
            "History of Mental Illness       0\n",
            "History of Substance Abuse      0\n",
            "Family History of Depression    0\n",
            "Chronic Medical Conditions      0\n",
            "dtype: int64\n"
          ]
        }
      ],
      "source": [
        "# Check for missing values\n",
        "print(df.isnull().sum())"
      ]
    },
    {
      "cell_type": "code",
      "execution_count": null,
      "id": "7e6f9c65",
      "metadata": {
        "id": "7e6f9c65",
        "outputId": "41a9075d-37d3-4266-b1b3-d4a0885abd61"
      },
      "outputs": [
        {
          "name": "stdout",
          "output_type": "stream",
          "text": [
            "Income                       0\n",
            "History of Mental Illness    0\n",
            "dtype: int64\n"
          ]
        }
      ],
      "source": [
        "# Check for missing values in 'Income' and 'History of Mental Illness'\n",
        "print(df[['Income', 'History of Mental Illness']].isnull().sum())\n",
        "\n",
        "# Drop rows with missing values in these columns\n",
        "\n",
        "df_clean = df.dropna(subset=['Income', 'History of Mental Illness'])\n"
      ]
    },
    {
      "cell_type": "code",
      "execution_count": null,
      "id": "f4b525c9",
      "metadata": {
        "id": "f4b525c9"
      },
      "outputs": [],
      "source": [
        "# Convert 'Yes' to 1 and 'No' to 0\n",
        "df_clean['History of Mental Illness'] = df_clean['History of Mental Illness'].map({'Yes': 1, 'No': 0})\n"
      ]
    },
    {
      "cell_type": "code",
      "execution_count": null,
      "id": "02b2dd6c",
      "metadata": {
        "id": "02b2dd6c",
        "outputId": "e3c8f1cc-f7b5-4ddd-c4be-34327a7f73ec"
      },
      "outputs": [
        {
          "name": "stdout",
          "output_type": "stream",
          "text": [
            "Correlation coefficient: -0.13680475594358885\n"
          ]
        }
      ],
      "source": [
        "  # Calculate correlation\n",
        "  correlation = df_clean['Income'].corr(df_clean['History of Mental Illness'])\n",
        "  print(f'Correlation coefficient: {correlation}')\n",
        "#A correlation coefficient of approximately -0.137 indicates a weak negative correlation between two variables. This means that as one variable slightly increases, the other has a slight tendency to decrease, but the relationship is weak and not very strong or consistent. Essentially, the two variables have a minor inverse relationship, and other factors might be at play affecting their behavior.\n",
        "\n"
      ]
    },
    {
      "cell_type": "code",
      "execution_count": null,
      "id": "5e87635e",
      "metadata": {
        "scrolled": true,
        "id": "5e87635e",
        "outputId": "a6eba4b5-870b-48c9-d611-e7c45b37555a"
      },
      "outputs": [
        {
          "name": "stdout",
          "output_type": "stream",
          "text": [
            "Optimization terminated successfully.\n",
            "         Current function value: 0.604388\n",
            "         Iterations 5\n",
            "                               Logit Regression Results                              \n",
            "=====================================================================================\n",
            "Dep. Variable:     History of Mental Illness   No. Observations:               413768\n",
            "Model:                                 Logit   Df Residuals:                   413766\n",
            "Method:                                  MLE   Df Model:                            1\n",
            "Date:                       Wed, 16 Apr 2025   Pseudo R-squ.:                 0.01613\n",
            "Time:                               09:46:09   Log-Likelihood:            -2.5008e+05\n",
            "converged:                              True   LL-Null:                   -2.5418e+05\n",
            "Covariance Type:                   nonrobust   LLR p-value:                     0.000\n",
            "==============================================================================\n",
            "                 coef    std err          z      P>|z|      [0.025      0.975]\n",
            "------------------------------------------------------------------------------\n",
            "const         -0.4428      0.005    -82.125      0.000      -0.453      -0.432\n",
            "Income     -8.033e-06   9.24e-08    -86.900      0.000   -8.21e-06   -7.85e-06\n",
            "==============================================================================\n"
          ]
        }
      ],
      "source": [
        "#Logistic Regression\n",
        "import statsmodels.api as sm\n",
        "\n",
        "  # Define the independent variable (adding a constant for the intercept)\n",
        "X = sm.add_constant(df_clean['Income'])\n",
        "  # Define the dependent variable\n",
        "y = df_clean['History of Mental Illness']\n",
        "\n",
        "  # Fit the logistic regression model\n",
        "model = sm.Logit(y, X).fit()\n",
        "print(model.summary())\n"
      ]
    },
    {
      "cell_type": "code",
      "execution_count": null,
      "id": "0403d620",
      "metadata": {
        "id": "0403d620",
        "outputId": "2ee19713-97e2-41d8-ec57-515190c0ba7a"
      },
      "outputs": [
        {
          "data": {
            "image/png": "[encoded data removed]",
            "text/plain": [
              "<Figure size 640x480 with 1 Axes>"
            ]
          },
          "metadata": {},
          "output_type": "display_data"
        }
      ],
      "source": [
        "  import seaborn as sns\n",
        "  import matplotlib.pyplot as plt\n",
        "\n",
        "  sns.boxplot(x='History of Mental Illness', y='Income', data=df_clean)\n",
        "  plt.title('Income Distribution by History of Mental Illness')\n",
        "  plt.xlabel('History of Mental Illness (0: No, 1: Yes)')\n",
        "  plt.ylabel('Income')\n",
        "  plt.show()\n"
      ]
    },
    {
      "cell_type": "code",
      "execution_count": null,
      "id": "30a6c059",
      "metadata": {
        "id": "30a6c059"
      },
      "outputs": [],
      "source": [
        "  sns.regplot(x='Income', y='History of Mental Illness', data=df_clean, logistic=True)\n",
        "  plt.title('Income vs. Probability of History of Mental Illness')\n",
        "  plt.xlabel('Income')\n",
        "  plt.ylabel('Probability of History of Mental Illness')\n",
        "  plt.show()\n"
      ]
    },
    {
      "cell_type": "code",
      "execution_count": null,
      "id": "ba6dfede",
      "metadata": {
        "id": "ba6dfede"
      },
      "outputs": [],
      "source": [
        "\n",
        "#This output is the result of a **logistic regression model**, a statistical technique used to analyze the relationship between a dependent variable (here, \"History of Mental Illness\") and one or more independent variables (like \"Income\"). Let me break it down for you step by step:\n",
        "\n",
        "1. **Optimization terminated successfully**: This indicates that the process of finding the best-fitting model for the data (via Maximum Likelihood Estimation) was successful.\n",
        "\n",
        "2. **Current function value (0.604388)**: This is the minimized value of the likelihood function, essentially indicating how well the model fits the data. Lower values suggest a better fit, but context matters.\n",
        "\n",
        "3. **Logit Regression Results**:\n",
        "   - **Dependent Variable**: \"History of Mental Illness\" is the target variable being modeled.\n",
        "   - **No. of Observations (413,768)**: This is the total number of data points analyzed.\n",
        "   - **Df Residuals (413,766)**: Degrees of freedom left after estimating the parameters.\n",
        "   - **Df Model (1)**: This shows there was one explanatory (independent) variable in the model, which is \"Income.\"\n",
        "\n",
        "4. **Pseudo R-squared (0.01613)**: A measure of how well the independent variable(s) explain variation in the dependent variable. A value of 0.01613 means the model only explains a small portion of the variability in the data.\n",
        "\n",
        "5. **Converged: True**: This means the algorithm successfully found a stable solution.\n",
        "\n",
        "6. **Coefficients (coef)**:\n",
        "   - **const (-0.4428)**: This is the intercept of the model, which can be interpreted as the baseline log-odds of the dependent variable when the independent variable (\"Income\") is zero.\n",
        "   - **Income (-8.033e-06)**: A very small, negative coefficient. This indicates that as \"Income\" increases, the likelihood of having a \"History of Mental Illness\" decreases slightly. However, the effect size is minimal.\n",
        "\n",
        "7. **Standard Error (std err)**: Indicates the variability of the coefficient estimates.\n",
        "   - For \"Income,\" this is very small, meaning the estimate is precise.\n",
        "\n",
        "8. **z-statistic & P-value (P>|z|)**:\n",
        "   - For \"Income,\" the z-statistic is -86.9, and the p-value is <0.05. This means the relationship between \"Income\" and \"History of Mental Illness\" is statistically significant.\n",
        "   - However, keep in mind that statistical significance doesn't always mean the relationship is meaningful in practical terms—especially with such a small effect size.\n",
        "\n",
        "9. **Confidence Interval [0.025, 0.975]**: This gives a range within which the true value of the coefficient is likely to fall 95% of the time. For \"Income,\" it's between -8.21e-06 and -7.85e-06, reinforcing its small, negative impact.\n",
        "\n",
        "\n",
        "\n",
        "10. **Likelihood Ratio (LLR) p-value (0.000)**: This confirms that the model is a better fit than a null model with no predictors.\n",
        "\n",
        "In summary, the model suggests a statistically significant but extremely small negative relationship between \"Income\" and \"History of Mental Illness.\" This means as income increases slightly, the odds of reporting a history of mental illness slightly decrease. However, the practical importance is minimal given the tiny effect size. Does this align with your expectations or context?"
      ]
    },
    {
      "cell_type": "code",
      "execution_count": null,
      "id": "149980b1",
      "metadata": {
        "id": "149980b1"
      },
      "outputs": [],
      "source": [
        "#PREDICT HISTORY OF MENTAL ILLINESS\n",
        "#Drop irrelevant columns (e.g., Name).\n",
        "# Drop the 'Name' column\n",
        "df_clean = df_clean.drop(columns=['Name'])\n",
        "#Encode categorical variables (e.g., Marital Status, Education Level) using pd.get_dummies or LabelEncoder.\n",
        "# Encode categorical variables\n",
        "df_encoded = pd.get_dummies(df_clean, columns=[\n",
        "    'Marital Status', 'Education Level', 'Employment Status',\n",
        "    'Physical Activity Level', 'Smoking Status', 'Alcohol Consumption',\n",
        "    'Dietary Habits', 'Sleep Patterns', 'History of Substance Abuse',\n",
        "    'Family History of Depression', 'Chronic Medical Conditions'\n",
        "])\n",
        "\n",
        "# Define features (X) and target (y)\n",
        "X = df_encoded.drop(columns=['History of Mental Illness'])\n",
        "y = df_encoded['History of Mental Illness']\n",
        "\n",
        "# Split data into train/test sets\n",
        "X_train, X_test, y_train, y_test = train_test_split(X, y, test_size=0.2, random_state=42)\n",
        "\n"
      ]
    },
    {
      "cell_type": "code",
      "execution_count": null,
      "id": "166b20c8",
      "metadata": {
        "id": "166b20c8"
      },
      "outputs": [],
      "source": [
        "from sklearn.ensemble import RandomForestClassifier\n",
        "from sklearn.metrics import accuracy_score, classification_report\n",
        "\n",
        "# Initialize and train the model\n",
        "model = RandomForestClassifier(random_state=42)\n",
        "model.fit(X_train, y_train)\n",
        "\n",
        "# Predict on test data\n",
        "y_pred = model.predict(X_test)\n",
        "\n",
        "# Evaluate\n",
        "print(\"Accuracy:\", accuracy_score(y_test, y_pred))\n",
        "print(classification_report(y_test, y_pred))"
      ]
    },
    {
      "cell_type": "code",
      "execution_count": null,
      "id": "22dfab47",
      "metadata": {
        "id": "22dfab47"
      },
      "outputs": [],
      "source": [
        "importances = model.feature_importances_\n",
        "feature_names = X.columns\n",
        "feature_importance_df = pd.DataFrame({'Feature': feature_names, 'Importance': importances})\n",
        "feature_importance_df.sort_values(by='Importance', ascending=False, inplace=True)\n",
        "print(feature_importance_df.head(10))"
      ]
    },
    {
      "cell_type": "code",
      "execution_count": null,
      "id": "994150c5",
      "metadata": {
        "id": "994150c5"
      },
      "outputs": [],
      "source": []
    }
  ],
  "metadata": {
    "kernelspec": {
      "display_name": "Python 3 (ipykernel)",
      "language": "python",
      "name": "python3"
    },
    "language_info": {
      "codemirror_mode": {
        "name": "ipython",
        "version": 3
      },
      "file_extension": ".py",
      "mimetype": "text/x-python",
      "name": "python",
      "nbconvert_exporter": "python",
      "pygments_lexer": "ipython3",
      "version": "3.10.9"
    },
    "colab": {
      "provenance": [],
      "include_colab_link": true
    }
  },
  "nbformat": 4,
  "nbformat_minor": 5
}